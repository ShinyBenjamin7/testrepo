{
 "cells": [
  {
   "cell_type": "markdown",
   "id": "9d72cbde-c65e-4085-bc5b-b78ba6012b62",
   "metadata": {},
   "source": [
    "## DATA SCIENCE TOOLS AND ECOSYSTEM"
   ]
  },
  {
   "cell_type": "markdown",
   "id": "48d3a0a5-3921-4682-8f91-2fcb8750788e",
   "metadata": {},
   "source": [
    "In this notebook, Data Science Tools and Ecosystem are summarized."
   ]
  },
  {
   "cell_type": "markdown",
   "id": "aac35f07-b404-4eb6-b2b0-a623d5ef6c24",
   "metadata": {},
   "source": [
    "Some of the popular languages that Data Scientists use are:"
   ]
  },
  {
   "cell_type": "markdown",
   "id": "3ed3196f-61e1-4867-9dd2-253f84b2be64",
   "metadata": {},
   "source": [
    "1. PYTHON\n",
    "2. R\n",
    "3. SQL"
   ]
  },
  {
   "cell_type": "markdown",
   "id": "29e48bf6-a66b-43c4-9651-20cfc5a97cbd",
   "metadata": {},
   "source": [
    "Some of the commonly used libraries used by Data Scientists include:\n",
    "1. TENSORFLOW\n",
    "2. NUMPY\n",
    "3. PANDAS"
   ]
  },
  {
   "cell_type": "markdown",
   "id": "7663330d-c157-46c3-9225-2fe24962db20",
   "metadata": {},
   "source": [
    "|DATA SCIENCE TOOLS|\n",
    "|------------------|\n",
    "|      PYTHON      |\n",
    "|    APACHE SPARK  |\n",
    "|     TENSORFLOW   |\n"
   ]
  },
  {
   "cell_type": "markdown",
   "id": "dfc91ef4-8d58-4bca-a159-e788fed37bfd",
   "metadata": {
    "tags": []
   },
   "source": [
    "#### Below are a few examples of evaluating arithmetic expressions in Python"
   ]
  },
  {
   "cell_type": "code",
   "execution_count": 3,
   "id": "974d2794-f9ec-4721-8cbd-ff174645aa83",
   "metadata": {
    "tags": []
   },
   "outputs": [
    {
     "name": "stdout",
     "output_type": "stream",
     "text": [
      "17\n"
     ]
    }
   ],
   "source": [
    "#This a simple arithmetic expression to mutiply then add integers\n",
    "\n",
    "x=(3*4)+5\n",
    "print(x)"
   ]
  },
  {
   "cell_type": "code",
   "execution_count": 2,
   "id": "97fa81f5-59af-46ad-9eda-b524fa8e71f2",
   "metadata": {
    "tags": []
   },
   "outputs": [
    {
     "name": "stdout",
     "output_type": "stream",
     "text": [
      "3.3333333333333335\n"
     ]
    }
   ],
   "source": [
    "#This will convert 200 minutes to hours by diving by 60\n",
    "\n",
    "x=200/60\n",
    "print(x)"
   ]
  },
  {
   "cell_type": "markdown",
   "id": "9957371e-efd4-449e-a709-a7243ab3e86a",
   "metadata": {},
   "source": [
    "__OBJECTIVES:__\n",
    "\n",
    "- POPULAR LANGUAGES IN DATA SCIENCE\n",
    "- POPULAR TOOLS USED IN DATA SCIENCE\n",
    "- EXAMPLES FOR EVALUATING BASIC ARITHEMATIC EXPRESSIONS IN PYTHON"
   ]
  },
  {
   "cell_type": "markdown",
   "id": "da9354e0-535a-4e08-9283-f05ba09e82ae",
   "metadata": {},
   "source": [
    "### AUTHOR:\n",
    "SHINY BENJAMIN"
   ]
  },
  {
   "cell_type": "code",
   "execution_count": null,
   "id": "2c90d1fe-d4a4-495b-b8aa-63d10c73de67",
   "metadata": {},
   "outputs": [],
   "source": []
  }
 ],
 "metadata": {
  "kernelspec": {
   "display_name": "Python",
   "language": "python",
   "name": "conda-env-python-py"
  },
  "language_info": {
   "codemirror_mode": {
    "name": "ipython",
    "version": 3
   },
   "file_extension": ".py",
   "mimetype": "text/x-python",
   "name": "python",
   "nbconvert_exporter": "python",
   "pygments_lexer": "ipython3",
   "version": "3.7.12"
  }
 },
 "nbformat": 4,
 "nbformat_minor": 5
}
